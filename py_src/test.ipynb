{
 "cells": [
  {
   "cell_type": "code",
   "execution_count": 12,
   "metadata": {},
   "outputs": [],
   "source": [
    "from torchsummary import summary\n",
    "from nn_definitions import Connect4NN, BreakthroughNN\n",
    "import torch"
   ]
  },
  {
   "cell_type": "code",
   "execution_count": 13,
   "metadata": {},
   "outputs": [],
   "source": [
    "# m = BreakthroughNN()\n",
    "m = Connect4NN()"
   ]
  },
  {
   "cell_type": "code",
   "execution_count": 15,
   "metadata": {},
   "outputs": [],
   "source": [
    "# out = m(torch.randn(1, 2, 8, 8))\n",
    "out = m(torch.randn(1, 2, 6, 7))"
   ]
  },
  {
   "cell_type": "code",
   "execution_count": 16,
   "metadata": {},
   "outputs": [
    {
     "data": {
      "text/plain": [
       "(torch.Size([1, 7]), torch.Size([1]))"
      ]
     },
     "execution_count": 16,
     "metadata": {},
     "output_type": "execute_result"
    }
   ],
   "source": [
    "pol, val = out\n",
    "pol.shape,val.shape"
   ]
  },
  {
   "cell_type": "code",
   "execution_count": 17,
   "metadata": {},
   "outputs": [
    {
     "name": "stdout",
     "output_type": "stream",
     "text": [
      "==========================================================================================\n",
      "Layer (type:depth-idx)                   Output Shape              Param #\n",
      "==========================================================================================\n",
      "├─Sequential: 1-1                        [-1, 8, 7, 7]             --\n",
      "|    └─ZeroPad2d: 2-1                    [-1, 2, 7, 7]             --\n",
      "|    └─Conv2d: 2-2                       [-1, 8, 7, 7]             152\n",
      "├─Middle: 1-2                            [-1, 16, 7, 7]            --\n",
      "|    └─Sequential: 2-3                   [-1, 16, 7, 7]            --\n",
      "|    |    └─ResNetBlock: 3-1             [-1, 8, 7, 7]             1,200\n",
      "|    |    └─ChannelChange: 3-2           [-1, 64, 7, 7]            4,688\n",
      "|    |    └─ResNetBlock: 3-3             [-1, 64, 7, 7]            74,112\n",
      "|    |    └─Identity: 3-4                [-1, 64, 7, 7]            --\n",
      "|    |    └─ResNetBlock: 3-5             [-1, 64, 7, 7]            74,112\n",
      "|    |    └─Identity: 3-6                [-1, 64, 7, 7]            --\n",
      "|    |    └─ResNetBlock: 3-7             [-1, 64, 7, 7]            74,112\n",
      "|    |    └─Identity: 3-8                [-1, 64, 7, 7]            --\n",
      "|    |    └─ResNetBlock: 3-9             [-1, 64, 7, 7]            74,112\n",
      "|    |    └─Identity: 3-10               [-1, 64, 7, 7]            --\n",
      "|    |    └─ResNetBlock: 3-11            [-1, 64, 7, 7]            74,112\n",
      "|    |    └─Identity: 3-12               [-1, 64, 7, 7]            --\n",
      "|    |    └─ResNetBlock: 3-13            [-1, 64, 7, 7]            74,112\n",
      "|    |    └─ChannelChange: 3-14          [-1, 16, 7, 7]            9,360\n",
      "|    |    └─ResNetBlock: 3-15            [-1, 16, 7, 7]            4,704\n",
      "├─Connect4PolicyHead: 1-3                [-1, 7]                   --\n",
      "|    └─Sequential: 2-4                   [-1, 7]                   --\n",
      "|    |    └─Flatten: 3-16                [-1, 784]                 --\n",
      "|    |    └─Linear: 3-17                 [-1, 256]                 200,960\n",
      "|    |    └─ReLU: 3-18                   [-1, 256]                 --\n",
      "|    |    └─Linear: 3-19                 [-1, 256]                 65,792\n",
      "|    |    └─ReLU: 3-20                   [-1, 256]                 --\n",
      "|    |    └─Linear: 3-21                 [-1, 7]                   1,799\n",
      "├─Connect4ValueHead: 1-4                 [-1, 1]                   --\n",
      "|    └─Sequential: 2-5                   [-1, 1]                   --\n",
      "|    |    └─Flatten: 3-22                [-1, 784]                 --\n",
      "|    |    └─Linear: 3-23                 [-1, 256]                 200,960\n",
      "|    |    └─ReLU: 3-24                   [-1, 256]                 --\n",
      "|    |    └─Linear: 3-25                 [-1, 1]                   257\n",
      "|    |    └─Tanh: 3-26                   [-1, 1]                   --\n",
      "==========================================================================================\n",
      "Total params: 934,544\n",
      "Trainable params: 934,544\n",
      "Non-trainable params: 0\n",
      "Total mult-adds (M): 3.27\n",
      "==========================================================================================\n",
      "Input size (MB): 0.00\n",
      "Forward/backward pass size (MB): 0.01\n",
      "Params size (MB): 3.57\n",
      "Estimated Total Size (MB): 3.57\n",
      "==========================================================================================\n"
     ]
    },
    {
     "data": {
      "text/plain": [
       "==========================================================================================\n",
       "Layer (type:depth-idx)                   Output Shape              Param #\n",
       "==========================================================================================\n",
       "├─Sequential: 1-1                        [-1, 8, 7, 7]             --\n",
       "|    └─ZeroPad2d: 2-1                    [-1, 2, 7, 7]             --\n",
       "|    └─Conv2d: 2-2                       [-1, 8, 7, 7]             152\n",
       "├─Middle: 1-2                            [-1, 16, 7, 7]            --\n",
       "|    └─Sequential: 2-3                   [-1, 16, 7, 7]            --\n",
       "|    |    └─ResNetBlock: 3-1             [-1, 8, 7, 7]             1,200\n",
       "|    |    └─ChannelChange: 3-2           [-1, 64, 7, 7]            4,688\n",
       "|    |    └─ResNetBlock: 3-3             [-1, 64, 7, 7]            74,112\n",
       "|    |    └─Identity: 3-4                [-1, 64, 7, 7]            --\n",
       "|    |    └─ResNetBlock: 3-5             [-1, 64, 7, 7]            74,112\n",
       "|    |    └─Identity: 3-6                [-1, 64, 7, 7]            --\n",
       "|    |    └─ResNetBlock: 3-7             [-1, 64, 7, 7]            74,112\n",
       "|    |    └─Identity: 3-8                [-1, 64, 7, 7]            --\n",
       "|    |    └─ResNetBlock: 3-9             [-1, 64, 7, 7]            74,112\n",
       "|    |    └─Identity: 3-10               [-1, 64, 7, 7]            --\n",
       "|    |    └─ResNetBlock: 3-11            [-1, 64, 7, 7]            74,112\n",
       "|    |    └─Identity: 3-12               [-1, 64, 7, 7]            --\n",
       "|    |    └─ResNetBlock: 3-13            [-1, 64, 7, 7]            74,112\n",
       "|    |    └─ChannelChange: 3-14          [-1, 16, 7, 7]            9,360\n",
       "|    |    └─ResNetBlock: 3-15            [-1, 16, 7, 7]            4,704\n",
       "├─Connect4PolicyHead: 1-3                [-1, 7]                   --\n",
       "|    └─Sequential: 2-4                   [-1, 7]                   --\n",
       "|    |    └─Flatten: 3-16                [-1, 784]                 --\n",
       "|    |    └─Linear: 3-17                 [-1, 256]                 200,960\n",
       "|    |    └─ReLU: 3-18                   [-1, 256]                 --\n",
       "|    |    └─Linear: 3-19                 [-1, 256]                 65,792\n",
       "|    |    └─ReLU: 3-20                   [-1, 256]                 --\n",
       "|    |    └─Linear: 3-21                 [-1, 7]                   1,799\n",
       "├─Connect4ValueHead: 1-4                 [-1, 1]                   --\n",
       "|    └─Sequential: 2-5                   [-1, 1]                   --\n",
       "|    |    └─Flatten: 3-22                [-1, 784]                 --\n",
       "|    |    └─Linear: 3-23                 [-1, 256]                 200,960\n",
       "|    |    └─ReLU: 3-24                   [-1, 256]                 --\n",
       "|    |    └─Linear: 3-25                 [-1, 1]                   257\n",
       "|    |    └─Tanh: 3-26                   [-1, 1]                   --\n",
       "==========================================================================================\n",
       "Total params: 934,544\n",
       "Trainable params: 934,544\n",
       "Non-trainable params: 0\n",
       "Total mult-adds (M): 3.27\n",
       "==========================================================================================\n",
       "Input size (MB): 0.00\n",
       "Forward/backward pass size (MB): 0.01\n",
       "Params size (MB): 3.57\n",
       "Estimated Total Size (MB): 3.57\n",
       "=========================================================================================="
      ]
     },
     "execution_count": 17,
     "metadata": {},
     "output_type": "execute_result"
    },
    {
     "ename": "",
     "evalue": "",
     "output_type": "error",
     "traceback": [
      "\u001b[1;31mThe Kernel crashed while executing code in the the current cell or a previous cell. Please review the code in the cell(s) to identify a possible cause of the failure. Click <a href='https://aka.ms/vscodeJupyterKernelCrash'>here</a> for more info. View Jupyter <a href='command:jupyter.viewOutput'>log</a> for further details."
     ]
    }
   ],
   "source": [
    "# summary(m, (2, 8, 8))\n",
    "summary(m, (2, 6, 7))"
   ]
  }
 ],
 "metadata": {
  "kernelspec": {
   "display_name": ".venv",
   "language": "python",
   "name": "python3"
  },
  "language_info": {
   "codemirror_mode": {
    "name": "ipython",
    "version": 3
   },
   "file_extension": ".py",
   "mimetype": "text/x-python",
   "name": "python",
   "nbconvert_exporter": "python",
   "pygments_lexer": "ipython3",
   "version": "3.10.6"
  },
  "orig_nbformat": 4,
  "vscode": {
   "interpreter": {
    "hash": "83a8f02b35bc22082ff76af3b2f13e80829ff26492822231fafe110709dd4c9c"
   }
  }
 },
 "nbformat": 4,
 "nbformat_minor": 2
}
