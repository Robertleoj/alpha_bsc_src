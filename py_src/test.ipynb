{
 "cells": [
  {
   "cell_type": "code",
   "execution_count": 14,
   "metadata": {},
   "outputs": [],
   "source": [
    "from torchsummary import summary\n",
    "from nn_definitions.connect4_nn import Connect4NN"
   ]
  },
  {
   "cell_type": "code",
   "execution_count": 15,
   "metadata": {},
   "outputs": [],
   "source": [
    "m = Connect4NN()"
   ]
  },
  {
   "cell_type": "code",
   "execution_count": 16,
   "metadata": {},
   "outputs": [
    {
     "name": "stdout",
     "output_type": "stream",
     "text": [
      "==========================================================================================\n",
      "Layer (type:depth-idx)                   Output Shape              Param #\n",
      "==========================================================================================\n",
      "├─Sequential: 1-1                        [-1, 6, 7, 7]             --\n",
      "|    └─ZeroPad2d: 2-1                    [-1, 3, 7, 7]             --\n",
      "|    └─Conv2d: 2-2                       [-1, 6, 7, 7]             168\n",
      "├─Middle: 1-2                            [-1, 12, 7, 7]            --\n",
      "|    └─Sequential: 2-3                   [-1, 12, 7, 7]            --\n",
      "|    |    └─ResNetBlock: 3-1             [-1, 6, 7, 7]             684\n",
      "|    |    └─ChannelChange: 3-2           [-1, 24, 7, 7]            1,332\n",
      "|    |    └─ResNetBlock: 3-3             [-1, 24, 7, 7]            10,512\n",
      "|    |    └─ChannelChange: 3-4           [-1, 24, 7, 7]            5,256\n",
      "|    |    └─ResNetBlock: 3-5             [-1, 24, 7, 7]            10,512\n",
      "|    |    └─ChannelChange: 3-6           [-1, 24, 7, 7]            5,256\n",
      "|    |    └─ResNetBlock: 3-7             [-1, 24, 7, 7]            10,512\n",
      "|    |    └─ChannelChange: 3-8           [-1, 24, 7, 7]            5,256\n",
      "|    |    └─ResNetBlock: 3-9             [-1, 24, 7, 7]            10,512\n",
      "|    |    └─ChannelChange: 3-10          [-1, 24, 7, 7]            5,256\n",
      "|    |    └─ResNetBlock: 3-11            [-1, 24, 7, 7]            10,512\n",
      "|    |    └─ChannelChange: 3-12          [-1, 24, 7, 7]            5,256\n",
      "|    |    └─ResNetBlock: 3-13            [-1, 24, 7, 7]            10,512\n",
      "|    |    └─ChannelChange: 3-14          [-1, 12, 7, 7]            2,652\n",
      "|    |    └─ResNetBlock: 3-15            [-1, 12, 7, 7]            2,664\n",
      "├─Connect4PolicyHead: 1-3                [-1, 7]                   --\n",
      "|    └─Sequential: 2-4                   [-1, 7]                   --\n",
      "|    |    └─Flatten: 3-16                [-1, 588]                 --\n",
      "|    |    └─Linear: 3-17                 [-1, 512]                 301,568\n",
      "|    |    └─ReLU: 3-18                   [-1, 512]                 --\n",
      "|    |    └─Linear: 3-19                 [-1, 512]                 262,656\n",
      "|    |    └─ReLU: 3-20                   [-1, 512]                 --\n",
      "|    |    └─Linear: 3-21                 [-1, 7]                   3,591\n",
      "├─Connect4ValueHead: 1-4                 [-1, 1]                   --\n",
      "|    └─Sequential: 2-5                   [-1, 1]                   --\n",
      "|    |    └─Flatten: 3-22                [-1, 588]                 --\n",
      "|    |    └─Linear: 3-23                 [-1, 512]                 301,568\n",
      "|    |    └─ReLU: 3-24                   [-1, 512]                 --\n",
      "|    |    └─Linear: 3-25                 [-1, 1]                   513\n",
      "==========================================================================================\n",
      "Total params: 966,748\n",
      "Trainable params: 966,748\n",
      "Non-trainable params: 0\n",
      "Total mult-adds (M): 3.00\n",
      "==========================================================================================\n",
      "Input size (MB): 0.00\n",
      "Forward/backward pass size (MB): 0.01\n",
      "Params size (MB): 3.69\n",
      "Estimated Total Size (MB): 3.70\n",
      "==========================================================================================\n"
     ]
    },
    {
     "data": {
      "text/plain": [
       "==========================================================================================\n",
       "Layer (type:depth-idx)                   Output Shape              Param #\n",
       "==========================================================================================\n",
       "├─Sequential: 1-1                        [-1, 6, 7, 7]             --\n",
       "|    └─ZeroPad2d: 2-1                    [-1, 3, 7, 7]             --\n",
       "|    └─Conv2d: 2-2                       [-1, 6, 7, 7]             168\n",
       "├─Middle: 1-2                            [-1, 12, 7, 7]            --\n",
       "|    └─Sequential: 2-3                   [-1, 12, 7, 7]            --\n",
       "|    |    └─ResNetBlock: 3-1             [-1, 6, 7, 7]             684\n",
       "|    |    └─ChannelChange: 3-2           [-1, 24, 7, 7]            1,332\n",
       "|    |    └─ResNetBlock: 3-3             [-1, 24, 7, 7]            10,512\n",
       "|    |    └─ChannelChange: 3-4           [-1, 24, 7, 7]            5,256\n",
       "|    |    └─ResNetBlock: 3-5             [-1, 24, 7, 7]            10,512\n",
       "|    |    └─ChannelChange: 3-6           [-1, 24, 7, 7]            5,256\n",
       "|    |    └─ResNetBlock: 3-7             [-1, 24, 7, 7]            10,512\n",
       "|    |    └─ChannelChange: 3-8           [-1, 24, 7, 7]            5,256\n",
       "|    |    └─ResNetBlock: 3-9             [-1, 24, 7, 7]            10,512\n",
       "|    |    └─ChannelChange: 3-10          [-1, 24, 7, 7]            5,256\n",
       "|    |    └─ResNetBlock: 3-11            [-1, 24, 7, 7]            10,512\n",
       "|    |    └─ChannelChange: 3-12          [-1, 24, 7, 7]            5,256\n",
       "|    |    └─ResNetBlock: 3-13            [-1, 24, 7, 7]            10,512\n",
       "|    |    └─ChannelChange: 3-14          [-1, 12, 7, 7]            2,652\n",
       "|    |    └─ResNetBlock: 3-15            [-1, 12, 7, 7]            2,664\n",
       "├─Connect4PolicyHead: 1-3                [-1, 7]                   --\n",
       "|    └─Sequential: 2-4                   [-1, 7]                   --\n",
       "|    |    └─Flatten: 3-16                [-1, 588]                 --\n",
       "|    |    └─Linear: 3-17                 [-1, 512]                 301,568\n",
       "|    |    └─ReLU: 3-18                   [-1, 512]                 --\n",
       "|    |    └─Linear: 3-19                 [-1, 512]                 262,656\n",
       "|    |    └─ReLU: 3-20                   [-1, 512]                 --\n",
       "|    |    └─Linear: 3-21                 [-1, 7]                   3,591\n",
       "├─Connect4ValueHead: 1-4                 [-1, 1]                   --\n",
       "|    └─Sequential: 2-5                   [-1, 1]                   --\n",
       "|    |    └─Flatten: 3-22                [-1, 588]                 --\n",
       "|    |    └─Linear: 3-23                 [-1, 512]                 301,568\n",
       "|    |    └─ReLU: 3-24                   [-1, 512]                 --\n",
       "|    |    └─Linear: 3-25                 [-1, 1]                   513\n",
       "==========================================================================================\n",
       "Total params: 966,748\n",
       "Trainable params: 966,748\n",
       "Non-trainable params: 0\n",
       "Total mult-adds (M): 3.00\n",
       "==========================================================================================\n",
       "Input size (MB): 0.00\n",
       "Forward/backward pass size (MB): 0.01\n",
       "Params size (MB): 3.69\n",
       "Estimated Total Size (MB): 3.70\n",
       "=========================================================================================="
      ]
     },
     "execution_count": 16,
     "metadata": {},
     "output_type": "execute_result"
    }
   ],
   "source": [
    "summary(m, (3, 6, 7))"
   ]
  }
 ],
 "metadata": {
  "kernelspec": {
   "display_name": ".venv",
   "language": "python",
   "name": "python3"
  },
  "language_info": {
   "codemirror_mode": {
    "name": "ipython",
    "version": 3
   },
   "file_extension": ".py",
   "mimetype": "text/x-python",
   "name": "python",
   "nbconvert_exporter": "python",
   "pygments_lexer": "ipython3",
   "version": "3.10.6"
  },
  "orig_nbformat": 4,
  "vscode": {
   "interpreter": {
    "hash": "5ccfc14df6c35959af0ba76092aa444811c6dfada88bc48ccfdd9ce6d005d4d7"
   }
  }
 },
 "nbformat": 4,
 "nbformat_minor": 2
}
