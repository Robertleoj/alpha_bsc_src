{
 "cells": [
  {
   "cell_type": "markdown",
   "metadata": {},
   "source": []
  },
  {
   "cell_type": "code",
   "execution_count": 1,
   "metadata": {},
   "outputs": [],
   "source": [
    "from training import Model"
   ]
  },
  {
   "cell_type": "code",
   "execution_count": 2,
   "metadata": {},
   "outputs": [],
   "source": [
    "model = Model('connect4')"
   ]
  },
  {
   "cell_type": "code",
   "execution_count": 3,
   "metadata": {},
   "outputs": [
    {
     "name": "stderr",
     "output_type": "stream",
     "text": [
      "loss=1.8483: 100%|██████████| 1000/1000 [00:26<00:00, 38.45it/s]\n"
     ]
    }
   ],
   "source": [
    "model.train(1000)"
   ]
  },
  {
   "cell_type": "code",
   "execution_count": 5,
   "metadata": {},
   "outputs": [
    {
     "ename": "AttributeError",
     "evalue": "'Model' object has no attribute 'generation'",
     "output_type": "error",
     "traceback": [
      "\u001b[0;31m---------------------------------------------------------------------------\u001b[0m",
      "\u001b[0;31mAttributeError\u001b[0m                            Traceback (most recent call last)",
      "Cell \u001b[0;32mIn[5], line 1\u001b[0m\n\u001b[0;32m----> 1\u001b[0m model\u001b[39m.\u001b[39;49msave_and_next_gen()\n",
      "File \u001b[0;32m~/alpha_bsc_src/py_src/training/model.py:65\u001b[0m, in \u001b[0;36mModel.save_and_next_gen\u001b[0;34m(self)\u001b[0m\n\u001b[1;32m     64\u001b[0m \u001b[39mdef\u001b[39;00m \u001b[39msave_and_next_gen\u001b[39m(\u001b[39mself\u001b[39m):\n\u001b[0;32m---> 65\u001b[0m     \u001b[39mself\u001b[39;49m\u001b[39m.\u001b[39;49msave_nn()\n\u001b[1;32m     66\u001b[0m     \u001b[39mself\u001b[39m\u001b[39m.\u001b[39mincrement_db_gen()\n\u001b[1;32m     68\u001b[0m     \u001b[39m# using class is not allowed after calling this\u001b[39;00m\n",
      "File \u001b[0;32m~/alpha_bsc_src/py_src/training/model.py:55\u001b[0m, in \u001b[0;36mModel.save_nn\u001b[0;34m(self)\u001b[0m\n\u001b[1;32m     54\u001b[0m \u001b[39mdef\u001b[39;00m \u001b[39msave_nn\u001b[39m(\u001b[39mself\u001b[39m):\n\u001b[0;32m---> 55\u001b[0m     new_gen \u001b[39m=\u001b[39m \u001b[39mself\u001b[39;49m\u001b[39m.\u001b[39;49mgeneration \u001b[39m+\u001b[39m \u001b[39m1\u001b[39m\n\u001b[1;32m     56\u001b[0m     new_gen_path \u001b[39m=\u001b[39m \u001b[39mself\u001b[39m\u001b[39m.\u001b[39mmodel_path \u001b[39m/\u001b[39m \u001b[39mf\u001b[39m\u001b[39m\"\u001b[39m\u001b[39m{\u001b[39;00mnew_gen\u001b[39m}\u001b[39;00m\u001b[39m.pt\u001b[39m\u001b[39m\"\u001b[39m\n\u001b[1;32m     58\u001b[0m     serialized \u001b[39m=\u001b[39m torch\u001b[39m.\u001b[39mjit\u001b[39m.\u001b[39mscript(\u001b[39mself\u001b[39m\u001b[39m.\u001b[39mnn)\n",
      "\u001b[0;31mAttributeError\u001b[0m: 'Model' object has no attribute 'generation'"
     ]
    }
   ],
   "source": [
    "model.save_and_next_gen()"
   ]
  }
 ],
 "metadata": {
  "kernelspec": {
   "display_name": ".venv",
   "language": "python",
   "name": "python3"
  },
  "language_info": {
   "codemirror_mode": {
    "name": "ipython",
    "version": 3
   },
   "file_extension": ".py",
   "mimetype": "text/x-python",
   "name": "python",
   "nbconvert_exporter": "python",
   "pygments_lexer": "ipython3",
   "version": "3.10.6"
  },
  "orig_nbformat": 4,
  "vscode": {
   "interpreter": {
    "hash": "83a8f02b35bc22082ff76af3b2f13e80829ff26492822231fafe110709dd4c9c"
   }
  }
 },
 "nbformat": 4,
 "nbformat_minor": 2
}
