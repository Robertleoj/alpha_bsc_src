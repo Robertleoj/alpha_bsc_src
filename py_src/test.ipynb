{
 "cells": [
  {
   "cell_type": "code",
   "execution_count": 1,
   "metadata": {},
   "outputs": [],
   "source": [
    "from torchsummary import summary\n",
    "from nn_definitions import Connect4NN, BreakthroughNN\n",
    "import torch"
   ]
  },
  {
   "cell_type": "code",
   "execution_count": 2,
   "metadata": {},
   "outputs": [],
   "source": [
    "m = BreakthroughNN()\n",
    "# m = Connect4NN()"
   ]
  },
  {
   "cell_type": "code",
   "execution_count": 3,
   "metadata": {},
   "outputs": [],
   "source": [
    "out = m(torch.randn(1, 2, 8, 8))\n",
    "# out = m(torch.randn(1, 2, 6, 7))"
   ]
  },
  {
   "cell_type": "code",
   "execution_count": 4,
   "metadata": {},
   "outputs": [
    {
     "data": {
      "text/plain": [
       "(torch.Size([1, 64, 64]), torch.Size([1]))"
      ]
     },
     "execution_count": 4,
     "metadata": {},
     "output_type": "execute_result"
    }
   ],
   "source": [
    "pol, val = out\n",
    "pol.shape,val.shape"
   ]
  },
  {
   "cell_type": "code",
   "execution_count": 5,
   "metadata": {},
   "outputs": [
    {
     "name": "stdout",
     "output_type": "stream",
     "text": [
      "==========================================================================================\n",
      "Layer (type:depth-idx)                   Output Shape              Param #\n",
      "==========================================================================================\n",
      "├─Middle: 1-1                            [-1, 64, 8, 8]            --\n",
      "|    └─Sequential: 2-1                   [-1, 64, 8, 8]            --\n",
      "|    |    └─ResNetBlock: 3-1             [-1, 2, 8, 8]             84\n",
      "|    |    └─ChannelChange: 3-2           [-1, 128, 8, 8]           2,436\n",
      "|    |    └─ResNetBlock: 3-3             [-1, 128, 8, 8]           295,680\n",
      "|    |    └─Identity: 3-4                [-1, 128, 8, 8]           --\n",
      "|    |    └─ResNetBlock: 3-5             [-1, 128, 8, 8]           295,680\n",
      "|    |    └─Identity: 3-6                [-1, 128, 8, 8]           --\n",
      "|    |    └─ResNetBlock: 3-7             [-1, 128, 8, 8]           295,680\n",
      "|    |    └─Identity: 3-8                [-1, 128, 8, 8]           --\n",
      "|    |    └─ResNetBlock: 3-9             [-1, 128, 8, 8]           295,680\n",
      "|    |    └─Identity: 3-10               [-1, 128, 8, 8]           --\n",
      "|    |    └─ResNetBlock: 3-11            [-1, 128, 8, 8]           295,680\n",
      "|    |    └─Identity: 3-12               [-1, 128, 8, 8]           --\n",
      "|    |    └─ResNetBlock: 3-13            [-1, 128, 8, 8]           295,680\n",
      "|    |    └─Identity: 3-14               [-1, 128, 8, 8]           --\n",
      "|    |    └─ResNetBlock: 3-15            [-1, 128, 8, 8]           295,680\n",
      "|    |    └─ChannelChange: 3-16          [-1, 64, 8, 8]            74,048\n",
      "|    |    └─ResNetBlock: 3-17            [-1, 64, 8, 8]            74,112\n",
      "├─BreakthroughPolicyHead: 1-2            [-1, 64, 64]              --\n",
      "|    └─Sequential: 2-2                   [-1, 64, 8, 8]            --\n",
      "|    |    └─Identity: 3-18               [-1, 64, 8, 8]            --\n",
      "|    |    └─ResNetBlock: 3-19            [-1, 64, 8, 8]            74,112\n",
      "|    |    └─ResNetBlock: 3-20            [-1, 64, 8, 8]            74,112\n",
      "|    |    └─ResNetBlock: 3-21            [-1, 64, 8, 8]            74,112\n",
      "├─BreakthroughValueHead: 1-3             [-1, 1]                   --\n",
      "|    └─Sequential: 2-3                   [-1, 1]                   --\n",
      "|    |    └─ChannelChange: 3-22          [-1, 16, 8, 8]            9,360\n",
      "|    |    └─ReLU: 3-23                   [-1, 16, 8, 8]            --\n",
      "|    |    └─Flatten: 3-24                [-1, 1024]                --\n",
      "|    |    └─Linear: 3-25                 [-1, 256]                 262,400\n",
      "|    |    └─ReLU: 3-26                   [-1, 256]                 --\n",
      "|    |    └─Linear: 3-27                 [-1, 1]                   257\n",
      "|    |    └─Tanh: 3-28                   [-1, 1]                   --\n",
      "==========================================================================================\n",
      "Total params: 2,714,793\n",
      "Trainable params: 2,714,793\n",
      "Non-trainable params: 0\n",
      "Total mult-adds (M): 10.58\n",
      "==========================================================================================\n",
      "Input size (MB): 0.00\n",
      "Forward/backward pass size (MB): 0.00\n",
      "Params size (MB): 10.36\n",
      "Estimated Total Size (MB): 10.36\n",
      "==========================================================================================\n"
     ]
    },
    {
     "data": {
      "text/plain": [
       "==========================================================================================\n",
       "Layer (type:depth-idx)                   Output Shape              Param #\n",
       "==========================================================================================\n",
       "├─Middle: 1-1                            [-1, 64, 8, 8]            --\n",
       "|    └─Sequential: 2-1                   [-1, 64, 8, 8]            --\n",
       "|    |    └─ResNetBlock: 3-1             [-1, 2, 8, 8]             84\n",
       "|    |    └─ChannelChange: 3-2           [-1, 128, 8, 8]           2,436\n",
       "|    |    └─ResNetBlock: 3-3             [-1, 128, 8, 8]           295,680\n",
       "|    |    └─Identity: 3-4                [-1, 128, 8, 8]           --\n",
       "|    |    └─ResNetBlock: 3-5             [-1, 128, 8, 8]           295,680\n",
       "|    |    └─Identity: 3-6                [-1, 128, 8, 8]           --\n",
       "|    |    └─ResNetBlock: 3-7             [-1, 128, 8, 8]           295,680\n",
       "|    |    └─Identity: 3-8                [-1, 128, 8, 8]           --\n",
       "|    |    └─ResNetBlock: 3-9             [-1, 128, 8, 8]           295,680\n",
       "|    |    └─Identity: 3-10               [-1, 128, 8, 8]           --\n",
       "|    |    └─ResNetBlock: 3-11            [-1, 128, 8, 8]           295,680\n",
       "|    |    └─Identity: 3-12               [-1, 128, 8, 8]           --\n",
       "|    |    └─ResNetBlock: 3-13            [-1, 128, 8, 8]           295,680\n",
       "|    |    └─Identity: 3-14               [-1, 128, 8, 8]           --\n",
       "|    |    └─ResNetBlock: 3-15            [-1, 128, 8, 8]           295,680\n",
       "|    |    └─ChannelChange: 3-16          [-1, 64, 8, 8]            74,048\n",
       "|    |    └─ResNetBlock: 3-17            [-1, 64, 8, 8]            74,112\n",
       "├─BreakthroughPolicyHead: 1-2            [-1, 64, 64]              --\n",
       "|    └─Sequential: 2-2                   [-1, 64, 8, 8]            --\n",
       "|    |    └─Identity: 3-18               [-1, 64, 8, 8]            --\n",
       "|    |    └─ResNetBlock: 3-19            [-1, 64, 8, 8]            74,112\n",
       "|    |    └─ResNetBlock: 3-20            [-1, 64, 8, 8]            74,112\n",
       "|    |    └─ResNetBlock: 3-21            [-1, 64, 8, 8]            74,112\n",
       "├─BreakthroughValueHead: 1-3             [-1, 1]                   --\n",
       "|    └─Sequential: 2-3                   [-1, 1]                   --\n",
       "|    |    └─ChannelChange: 3-22          [-1, 16, 8, 8]            9,360\n",
       "|    |    └─ReLU: 3-23                   [-1, 16, 8, 8]            --\n",
       "|    |    └─Flatten: 3-24                [-1, 1024]                --\n",
       "|    |    └─Linear: 3-25                 [-1, 256]                 262,400\n",
       "|    |    └─ReLU: 3-26                   [-1, 256]                 --\n",
       "|    |    └─Linear: 3-27                 [-1, 1]                   257\n",
       "|    |    └─Tanh: 3-28                   [-1, 1]                   --\n",
       "==========================================================================================\n",
       "Total params: 2,714,793\n",
       "Trainable params: 2,714,793\n",
       "Non-trainable params: 0\n",
       "Total mult-adds (M): 10.58\n",
       "==========================================================================================\n",
       "Input size (MB): 0.00\n",
       "Forward/backward pass size (MB): 0.00\n",
       "Params size (MB): 10.36\n",
       "Estimated Total Size (MB): 10.36\n",
       "=========================================================================================="
      ]
     },
     "execution_count": 5,
     "metadata": {},
     "output_type": "execute_result"
    }
   ],
   "source": [
    "summary(m, (2, 8, 8))\n",
    "# summary(m, (2, 6, 7))"
   ]
  }
 ],
 "metadata": {
  "kernelspec": {
   "display_name": ".venv",
   "language": "python",
   "name": "python3"
  },
  "language_info": {
   "codemirror_mode": {
    "name": "ipython",
    "version": 3
   },
   "file_extension": ".py",
   "mimetype": "text/x-python",
   "name": "python",
   "nbconvert_exporter": "python",
   "pygments_lexer": "ipython3",
   "version": "3.10.6"
  },
  "orig_nbformat": 4,
  "vscode": {
   "interpreter": {
    "hash": "83a8f02b35bc22082ff76af3b2f13e80829ff26492822231fafe110709dd4c9c"
   }
  }
 },
 "nbformat": 4,
 "nbformat_minor": 2
}
