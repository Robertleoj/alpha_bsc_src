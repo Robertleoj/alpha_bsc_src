{
 "cells": [
  {
   "cell_type": "code",
   "execution_count": 11,
   "metadata": {},
   "outputs": [],
   "source": [
    "from DB import DB\n",
    "import torch\n",
    "from random import randint"
   ]
  },
  {
   "cell_type": "code",
   "execution_count": 2,
   "metadata": {},
   "outputs": [],
   "source": [
    "dat = torch.load(\"./training_data/connect4/0.pt\")"
   ]
  },
  {
   "cell_type": "code",
   "execution_count": 3,
   "metadata": {},
   "outputs": [],
   "source": [
    "idx = 0"
   ]
  },
  {
   "cell_type": "code",
   "execution_count": 27,
   "metadata": {},
   "outputs": [],
   "source": [
    "idx-=1"
   ]
  },
  {
   "cell_type": "code",
   "execution_count": 4,
   "metadata": {},
   "outputs": [
    {
     "data": {
      "text/plain": [
       "tensor([[[0., 0., 0., 0., 0., 0., 0.],\n",
       "         [0., 0., 0., 0., 0., 0., 0.],\n",
       "         [0., 0., 0., 0., 0., 0., 0.],\n",
       "         [0., 0., 0., 0., 0., 0., 0.],\n",
       "         [0., 0., 0., 0., 0., 0., 0.],\n",
       "         [0., 0., 0., 0., 0., 0., 0.]],\n",
       "\n",
       "        [[1., 0., 0., 0., 0., 0., 0.],\n",
       "         [0., 0., 0., 0., 0., 0., 0.],\n",
       "         [0., 0., 0., 0., 0., 0., 0.],\n",
       "         [0., 0., 0., 0., 0., 0., 0.],\n",
       "         [0., 0., 0., 0., 0., 0., 0.],\n",
       "         [0., 0., 0., 0., 0., 0., 0.]]])"
      ]
     },
     "metadata": {},
     "output_type": "display_data"
    },
    {
     "data": {
      "text/plain": [
       "tensor([0.1475, 0.1440, 0.1414, 0.1414, 0.1414, 0.1396, 0.1449])"
      ]
     },
     "metadata": {},
     "output_type": "display_data"
    },
    {
     "data": {
      "text/plain": [
       "tensor(-1., dtype=torch.float64)"
      ]
     },
     "metadata": {},
     "output_type": "display_data"
    }
   ],
   "source": [
    "display(dat[0][idx], dat[1][idx], dat[2][idx])\n",
    "idx +=1"
   ]
  },
  {
   "cell_type": "code",
   "execution_count": null,
   "metadata": {},
   "outputs": [],
   "source": [
    "idx"
   ]
  },
  {
   "cell_type": "code",
   "execution_count": null,
   "metadata": {},
   "outputs": [],
   "source": [
    "dat[0][0] == dat[0][1]"
   ]
  },
  {
   "cell_type": "code",
   "execution_count": 5,
   "metadata": {},
   "outputs": [],
   "source": [
    "model = torch.jit.load(\"../models/connect4/1.pt\")"
   ]
  },
  {
   "cell_type": "code",
   "execution_count": null,
   "metadata": {},
   "outputs": [],
   "source": [
    "# dat = torch.zeros(1, 2, 6, 7, device=\"cuda\")"
   ]
  },
  {
   "cell_type": "code",
   "execution_count": null,
   "metadata": {},
   "outputs": [],
   "source": [
    "(x := model(dat))"
   ]
  },
  {
   "cell_type": "code",
   "execution_count": null,
   "metadata": {},
   "outputs": [],
   "source": [
    "torch.softmax(x[0], dim=1)"
   ]
  },
  {
   "cell_type": "code",
   "execution_count": 9,
   "metadata": {},
   "outputs": [
    {
     "data": {
      "text/plain": [
       "(tensor([[[0., 0., 0., 0., 0., 0., 0.],\n",
       "          [1., 0., 0., 0., 0., 0., 0.],\n",
       "          [0., 0., 0., 0., 0., 0., 0.],\n",
       "          [1., 0., 0., 0., 0., 0., 0.],\n",
       "          [0., 0., 0., 0., 0., 0., 0.],\n",
       "          [1., 0., 0., 0., 0., 0., 0.]],\n",
       " \n",
       "         [[1., 0., 0., 0., 0., 0., 1.],\n",
       "          [0., 0., 0., 0., 0., 0., 0.],\n",
       "          [1., 0., 0., 0., 0., 0., 0.],\n",
       "          [0., 0., 0., 0., 0., 0., 0.],\n",
       "          [1., 0., 0., 0., 0., 0., 0.],\n",
       "          [0., 0., 0., 0., 0., 0., 0.]]]),\n",
       " tensor([0.0000, 0.1699, 0.1657, 0.1649, 0.1665, 0.1615, 0.1715]),\n",
       " tensor(-1., dtype=torch.float64))"
      ]
     },
     "execution_count": 9,
     "metadata": {},
     "output_type": "execute_result"
    }
   ],
   "source": [
    "dat[0][6], dat[1][6], dat[2][6]"
   ]
  },
  {
   "cell_type": "code",
   "execution_count": 6,
   "metadata": {},
   "outputs": [
    {
     "data": {
      "text/plain": [
       "RecursiveScriptModule(\n",
       "  original_name=Connect4NN\n",
       "  (inp): RecursiveScriptModule(\n",
       "    original_name=Sequential\n",
       "    (0): RecursiveScriptModule(original_name=ZeroPad2d)\n",
       "    (1): RecursiveScriptModule(original_name=Conv2d)\n",
       "  )\n",
       "  (middle): RecursiveScriptModule(\n",
       "    original_name=Middle\n",
       "    (out): RecursiveScriptModule(\n",
       "      original_name=Sequential\n",
       "      (0): RecursiveScriptModule(\n",
       "        original_name=ResNetBlock\n",
       "        (out): RecursiveScriptModule(\n",
       "          original_name=Residual\n",
       "          (block): RecursiveScriptModule(\n",
       "            original_name=ResBlock\n",
       "            (out): RecursiveScriptModule(\n",
       "              original_name=Sequential\n",
       "              (0): RecursiveScriptModule(original_name=BatchNorm2d)\n",
       "              (1): RecursiveScriptModule(original_name=ReLU)\n",
       "              (2): RecursiveScriptModule(original_name=Conv2d)\n",
       "              (3): RecursiveScriptModule(original_name=BatchNorm2d)\n",
       "              (4): RecursiveScriptModule(original_name=ReLU)\n",
       "              (5): RecursiveScriptModule(original_name=Conv2d)\n",
       "            )\n",
       "          )\n",
       "        )\n",
       "      )\n",
       "      (1): RecursiveScriptModule(\n",
       "        original_name=ChannelChange\n",
       "        (out): RecursiveScriptModule(\n",
       "          original_name=Sequential\n",
       "          (0): RecursiveScriptModule(original_name=BatchNorm2d)\n",
       "          (1): RecursiveScriptModule(original_name=ReLU)\n",
       "          (2): RecursiveScriptModule(original_name=Conv2d)\n",
       "        )\n",
       "      )\n",
       "      (2): RecursiveScriptModule(\n",
       "        original_name=ResNetBlock\n",
       "        (out): RecursiveScriptModule(\n",
       "          original_name=Residual\n",
       "          (block): RecursiveScriptModule(\n",
       "            original_name=ResBlock\n",
       "            (out): RecursiveScriptModule(\n",
       "              original_name=Sequential\n",
       "              (0): RecursiveScriptModule(original_name=BatchNorm2d)\n",
       "              (1): RecursiveScriptModule(original_name=ReLU)\n",
       "              (2): RecursiveScriptModule(original_name=Conv2d)\n",
       "              (3): RecursiveScriptModule(original_name=BatchNorm2d)\n",
       "              (4): RecursiveScriptModule(original_name=ReLU)\n",
       "              (5): RecursiveScriptModule(original_name=Conv2d)\n",
       "            )\n",
       "          )\n",
       "        )\n",
       "      )\n",
       "      (3): RecursiveScriptModule(\n",
       "        original_name=ChannelChange\n",
       "        (out): RecursiveScriptModule(\n",
       "          original_name=Sequential\n",
       "          (0): RecursiveScriptModule(original_name=BatchNorm2d)\n",
       "          (1): RecursiveScriptModule(original_name=ReLU)\n",
       "          (2): RecursiveScriptModule(original_name=Conv2d)\n",
       "        )\n",
       "      )\n",
       "      (4): RecursiveScriptModule(\n",
       "        original_name=ResNetBlock\n",
       "        (out): RecursiveScriptModule(\n",
       "          original_name=Residual\n",
       "          (block): RecursiveScriptModule(\n",
       "            original_name=ResBlock\n",
       "            (out): RecursiveScriptModule(\n",
       "              original_name=Sequential\n",
       "              (0): RecursiveScriptModule(original_name=BatchNorm2d)\n",
       "              (1): RecursiveScriptModule(original_name=ReLU)\n",
       "              (2): RecursiveScriptModule(original_name=Conv2d)\n",
       "              (3): RecursiveScriptModule(original_name=BatchNorm2d)\n",
       "              (4): RecursiveScriptModule(original_name=ReLU)\n",
       "              (5): RecursiveScriptModule(original_name=Conv2d)\n",
       "            )\n",
       "          )\n",
       "        )\n",
       "      )\n",
       "      (5): RecursiveScriptModule(\n",
       "        original_name=ChannelChange\n",
       "        (out): RecursiveScriptModule(\n",
       "          original_name=Sequential\n",
       "          (0): RecursiveScriptModule(original_name=BatchNorm2d)\n",
       "          (1): RecursiveScriptModule(original_name=ReLU)\n",
       "          (2): RecursiveScriptModule(original_name=Conv2d)\n",
       "        )\n",
       "      )\n",
       "      (6): RecursiveScriptModule(\n",
       "        original_name=ResNetBlock\n",
       "        (out): RecursiveScriptModule(\n",
       "          original_name=Residual\n",
       "          (block): RecursiveScriptModule(\n",
       "            original_name=ResBlock\n",
       "            (out): RecursiveScriptModule(\n",
       "              original_name=Sequential\n",
       "              (0): RecursiveScriptModule(original_name=BatchNorm2d)\n",
       "              (1): RecursiveScriptModule(original_name=ReLU)\n",
       "              (2): RecursiveScriptModule(original_name=Conv2d)\n",
       "              (3): RecursiveScriptModule(original_name=BatchNorm2d)\n",
       "              (4): RecursiveScriptModule(original_name=ReLU)\n",
       "              (5): RecursiveScriptModule(original_name=Conv2d)\n",
       "            )\n",
       "          )\n",
       "        )\n",
       "      )\n",
       "      (7): RecursiveScriptModule(\n",
       "        original_name=ChannelChange\n",
       "        (out): RecursiveScriptModule(\n",
       "          original_name=Sequential\n",
       "          (0): RecursiveScriptModule(original_name=BatchNorm2d)\n",
       "          (1): RecursiveScriptModule(original_name=ReLU)\n",
       "          (2): RecursiveScriptModule(original_name=Conv2d)\n",
       "        )\n",
       "      )\n",
       "      (8): RecursiveScriptModule(\n",
       "        original_name=ResNetBlock\n",
       "        (out): RecursiveScriptModule(\n",
       "          original_name=Residual\n",
       "          (block): RecursiveScriptModule(\n",
       "            original_name=ResBlock\n",
       "            (out): RecursiveScriptModule(\n",
       "              original_name=Sequential\n",
       "              (0): RecursiveScriptModule(original_name=BatchNorm2d)\n",
       "              (1): RecursiveScriptModule(original_name=ReLU)\n",
       "              (2): RecursiveScriptModule(original_name=Conv2d)\n",
       "              (3): RecursiveScriptModule(original_name=BatchNorm2d)\n",
       "              (4): RecursiveScriptModule(original_name=ReLU)\n",
       "              (5): RecursiveScriptModule(original_name=Conv2d)\n",
       "            )\n",
       "          )\n",
       "        )\n",
       "      )\n",
       "      (9): RecursiveScriptModule(\n",
       "        original_name=ChannelChange\n",
       "        (out): RecursiveScriptModule(\n",
       "          original_name=Sequential\n",
       "          (0): RecursiveScriptModule(original_name=BatchNorm2d)\n",
       "          (1): RecursiveScriptModule(original_name=ReLU)\n",
       "          (2): RecursiveScriptModule(original_name=Conv2d)\n",
       "        )\n",
       "      )\n",
       "      (10): RecursiveScriptModule(\n",
       "        original_name=ResNetBlock\n",
       "        (out): RecursiveScriptModule(\n",
       "          original_name=Residual\n",
       "          (block): RecursiveScriptModule(\n",
       "            original_name=ResBlock\n",
       "            (out): RecursiveScriptModule(\n",
       "              original_name=Sequential\n",
       "              (0): RecursiveScriptModule(original_name=BatchNorm2d)\n",
       "              (1): RecursiveScriptModule(original_name=ReLU)\n",
       "              (2): RecursiveScriptModule(original_name=Conv2d)\n",
       "              (3): RecursiveScriptModule(original_name=BatchNorm2d)\n",
       "              (4): RecursiveScriptModule(original_name=ReLU)\n",
       "              (5): RecursiveScriptModule(original_name=Conv2d)\n",
       "            )\n",
       "          )\n",
       "        )\n",
       "      )\n",
       "      (11): RecursiveScriptModule(\n",
       "        original_name=ChannelChange\n",
       "        (out): RecursiveScriptModule(\n",
       "          original_name=Sequential\n",
       "          (0): RecursiveScriptModule(original_name=BatchNorm2d)\n",
       "          (1): RecursiveScriptModule(original_name=ReLU)\n",
       "          (2): RecursiveScriptModule(original_name=Conv2d)\n",
       "        )\n",
       "      )\n",
       "      (12): RecursiveScriptModule(\n",
       "        original_name=ResNetBlock\n",
       "        (out): RecursiveScriptModule(\n",
       "          original_name=Residual\n",
       "          (block): RecursiveScriptModule(\n",
       "            original_name=ResBlock\n",
       "            (out): RecursiveScriptModule(\n",
       "              original_name=Sequential\n",
       "              (0): RecursiveScriptModule(original_name=BatchNorm2d)\n",
       "              (1): RecursiveScriptModule(original_name=ReLU)\n",
       "              (2): RecursiveScriptModule(original_name=Conv2d)\n",
       "              (3): RecursiveScriptModule(original_name=BatchNorm2d)\n",
       "              (4): RecursiveScriptModule(original_name=ReLU)\n",
       "              (5): RecursiveScriptModule(original_name=Conv2d)\n",
       "            )\n",
       "          )\n",
       "        )\n",
       "      )\n",
       "      (13): RecursiveScriptModule(\n",
       "        original_name=ChannelChange\n",
       "        (out): RecursiveScriptModule(\n",
       "          original_name=Sequential\n",
       "          (0): RecursiveScriptModule(original_name=BatchNorm2d)\n",
       "          (1): RecursiveScriptModule(original_name=ReLU)\n",
       "          (2): RecursiveScriptModule(original_name=Conv2d)\n",
       "        )\n",
       "      )\n",
       "      (14): RecursiveScriptModule(\n",
       "        original_name=ResNetBlock\n",
       "        (out): RecursiveScriptModule(\n",
       "          original_name=Residual\n",
       "          (block): RecursiveScriptModule(\n",
       "            original_name=ResBlock\n",
       "            (out): RecursiveScriptModule(\n",
       "              original_name=Sequential\n",
       "              (0): RecursiveScriptModule(original_name=BatchNorm2d)\n",
       "              (1): RecursiveScriptModule(original_name=ReLU)\n",
       "              (2): RecursiveScriptModule(original_name=Conv2d)\n",
       "              (3): RecursiveScriptModule(original_name=BatchNorm2d)\n",
       "              (4): RecursiveScriptModule(original_name=ReLU)\n",
       "              (5): RecursiveScriptModule(original_name=Conv2d)\n",
       "            )\n",
       "          )\n",
       "        )\n",
       "      )\n",
       "    )\n",
       "  )\n",
       "  (policy_head): RecursiveScriptModule(\n",
       "    original_name=Connect4PolicyHead\n",
       "    (out): RecursiveScriptModule(\n",
       "      original_name=Sequential\n",
       "      (0): RecursiveScriptModule(original_name=Flatten)\n",
       "      (1): RecursiveScriptModule(original_name=Linear)\n",
       "      (2): RecursiveScriptModule(original_name=ReLU)\n",
       "      (3): RecursiveScriptModule(original_name=Linear)\n",
       "      (4): RecursiveScriptModule(original_name=ReLU)\n",
       "      (5): RecursiveScriptModule(original_name=Linear)\n",
       "    )\n",
       "  )\n",
       "  (value_head): RecursiveScriptModule(\n",
       "    original_name=Connect4ValueHead\n",
       "    (out): RecursiveScriptModule(\n",
       "      original_name=Sequential\n",
       "      (0): RecursiveScriptModule(original_name=Flatten)\n",
       "      (1): RecursiveScriptModule(original_name=Linear)\n",
       "      (2): RecursiveScriptModule(original_name=ReLU)\n",
       "      (3): RecursiveScriptModule(original_name=Linear)\n",
       "      (4): RecursiveScriptModule(original_name=Tanh)\n",
       "    )\n",
       "  )\n",
       ")"
      ]
     },
     "execution_count": 6,
     "metadata": {},
     "output_type": "execute_result"
    }
   ],
   "source": [
    "X = dat[0][6].cuda().unsqueeze(0)\n",
    "X\n",
    "model.cuda()"
   ]
  },
  {
   "cell_type": "code",
   "execution_count": 7,
   "metadata": {},
   "outputs": [
    {
     "data": {
      "text/plain": [
       "(tensor([[-9.5874, -2.3886,  2.5633,  2.5704,  1.8340,  2.5548, -6.6105]],\n",
       "        device='cuda:0', grad_fn=<AddmmBackward0>),\n",
       " tensor([-0.9053], device='cuda:0', grad_fn=<SqueezeBackward1>))"
      ]
     },
     "execution_count": 7,
     "metadata": {},
     "output_type": "execute_result"
    }
   ],
   "source": [
    "model(X)"
   ]
  },
  {
   "cell_type": "code",
   "execution_count": 8,
   "metadata": {},
   "outputs": [
    {
     "data": {
      "text/plain": [
       "tensor([[1.5151e-06, 2.0269e-03, 2.8668e-01, 2.8873e-01, 1.3826e-01, 2.8427e-01,\n",
       "         2.9737e-05]], device='cuda:0', grad_fn=<SoftmaxBackward0>)"
      ]
     },
     "execution_count": 8,
     "metadata": {},
     "output_type": "execute_result"
    }
   ],
   "source": [
    "torch.softmax(model(X)[0], dim=1)"
   ]
  },
  {
   "cell_type": "code",
   "execution_count": 15,
   "metadata": {},
   "outputs": [
    {
     "data": {
      "text/plain": [
       "tensor([[[0., 0., 0., 0., 0., 0., 0.],\n",
       "         [1., 1., 1., 0., 1., 0., 1.],\n",
       "         [0., 0., 0., 0., 0., 0., 0.],\n",
       "         [1., 1., 0., 0., 1., 0., 1.],\n",
       "         [0., 0., 0., 0., 0., 0., 0.],\n",
       "         [1., 1., 0., 0., 1., 0., 1.]],\n",
       "\n",
       "        [[1., 1., 1., 0., 1., 0., 1.],\n",
       "         [0., 0., 0., 0., 0., 0., 0.],\n",
       "         [1., 1., 1., 0., 1., 0., 1.],\n",
       "         [0., 0., 0., 0., 0., 0., 0.],\n",
       "         [1., 1., 0., 0., 1., 0., 1.],\n",
       "         [0., 0., 0., 0., 0., 0., 0.]]])"
      ]
     },
     "metadata": {},
     "output_type": "display_data"
    },
    {
     "data": {
      "text/plain": [
       "tensor([0.0000, 0.0000, 0.3353, 0.3353, 0.0000, 0.3293, 0.0000])"
      ]
     },
     "metadata": {},
     "output_type": "display_data"
    },
    {
     "data": {
      "text/plain": [
       "tensor(-1., dtype=torch.float64)"
      ]
     },
     "metadata": {},
     "output_type": "display_data"
    },
    {
     "data": {
      "text/plain": [
       "(tensor([[-8.7699, -2.4058,  2.1819,  2.1793,  2.1636,  2.1612, -5.3667]],\n",
       "        device='cuda:0', grad_fn=<DifferentiableGraphBackward>),\n",
       " tensor([0.6730], device='cuda:0', grad_fn=<DifferentiableGraphBackward>))"
      ]
     },
     "metadata": {},
     "output_type": "display_data"
    }
   ],
   "source": [
    "i = randint(0, 10000)\n",
    "X = dat[0][i].cuda().unsqueeze(0)\n",
    "display(dat[0][i], dat[1][i], dat[2][i], model(X))"
   ]
  }
 ],
 "metadata": {
  "kernelspec": {
   "display_name": ".venv",
   "language": "python",
   "name": "python3"
  },
  "language_info": {
   "codemirror_mode": {
    "name": "ipython",
    "version": 3
   },
   "file_extension": ".py",
   "mimetype": "text/x-python",
   "name": "python",
   "nbconvert_exporter": "python",
   "pygments_lexer": "ipython3",
   "version": "3.10.6"
  },
  "orig_nbformat": 4,
  "vscode": {
   "interpreter": {
    "hash": "6b25f8fcbd3c0ddff32aedf0dabb9c2b205a888573b757916f9369dc3ba87090"
   }
  }
 },
 "nbformat": 4,
 "nbformat_minor": 2
}
